{
  "nbformat": 4,
  "nbformat_minor": 0,
  "metadata": {
    "colab": {
      "provenance": [],
      "collapsed_sections": [],
      "authorship_tag": "ABX9TyNN1VWoG8qszVI/UW06d5LO"
    },
    "kernelspec": {
      "name": "python3",
      "display_name": "Python 3"
    },
    "language_info": {
      "name": "python"
    }
  },
  "cells": [
    {
      "cell_type": "code",
      "execution_count": 12,
      "metadata": {
        "id": "dgtOSYezpehb"
      },
      "outputs": [],
      "source": [
        "#imports \n",
        "import pandas as pd\n",
        "import numpy as np\n",
        "import re\n",
        "\n",
        "import io \n",
        "from nltk.corpus import stopwords \n",
        "from nltk.tokenize import word_tokenize \n",
        "from cgitb import text"
      ]
    },
    {
      "cell_type": "markdown",
      "source": [
        "###**2. Cargue los archivos de datos a R o a Python, dependiendo de con qué trabaje.**"
      ],
      "metadata": {
        "id": "Rhpzpo4SsJ30"
      }
    },
    {
      "cell_type": "code",
      "source": [
        "#Carga de datos\n",
        "df = pd.read_csv('/train.csv')"
      ],
      "metadata": {
        "id": "xSY6hdhApvOX"
      },
      "execution_count": 4,
      "outputs": []
    },
    {
      "cell_type": "markdown",
      "source": [
        "###**3. Limpie y preprocese los datos**"
      ],
      "metadata": {
        "id": "go8OE8Z3s3X9"
      }
    },
    {
      "cell_type": "markdown",
      "source": [
        "**Convertir el texto a mayúsculas o a minúsculas**"
      ],
      "metadata": {
        "id": "hH82KG2Uv1Ak"
      }
    },
    {
      "cell_type": "code",
      "source": [
        "#Valores en lowercase para que no haya problemas con las mayusculas\n",
        "df['text'].str.lower()\n",
        "df['location'].str.lower()\n",
        "df['keyword'].str.lower()\n",
        "\n",
        "print(df)"
      ],
      "metadata": {
        "colab": {
          "base_uri": "https://localhost:8080/"
        },
        "id": "8ucZzvOttYE0",
        "outputId": "81cc676e-0c9a-4b41-cc5d-25f1d96794bd"
      },
      "execution_count": 7,
      "outputs": [
        {
          "output_type": "stream",
          "name": "stdout",
          "text": [
            "         id keyword location  \\\n",
            "0         1     NaN      NaN   \n",
            "1         4     NaN      NaN   \n",
            "2         5     NaN      NaN   \n",
            "3         6     NaN      NaN   \n",
            "4         7     NaN      NaN   \n",
            "...     ...     ...      ...   \n",
            "7608  10869     NaN      NaN   \n",
            "7609  10870     NaN      NaN   \n",
            "7610  10871     NaN      NaN   \n",
            "7611  10872     NaN      NaN   \n",
            "7612  10873     NaN      NaN   \n",
            "\n",
            "                                                   text  target  \n",
            "0     Our Deeds are the Reason of this earthquake Ma...       1  \n",
            "1                Forest fire near La Ronge Sask. Canada       1  \n",
            "2     All residents asked to 'shelter in place' are ...       1  \n",
            "3     13000 people receive wildfires evacuation orde...       1  \n",
            "4     Just got sent this photo from Ruby Alaska as s...       1  \n",
            "...                                                 ...     ...  \n",
            "7608  Two giant cranes holding a bridge collapse int...       1  \n",
            "7609  aria_ahrary TheTawniest The out of control wil...       1  \n",
            "7610  M1.94 [01:04 UTC]5km S of Volcano Hawaii. http...       1  \n",
            "7611  Police investigating after an e-bike collided ...       1  \n",
            "7612  The Latest: More Homes Razed by Northern Calif...       1  \n",
            "\n",
            "[7613 rows x 5 columns]\n"
          ]
        }
      ]
    },
    {
      "cell_type": "markdown",
      "source": [
        "**Quitar los caracteres especiales y signos de puntuacion**"
      ],
      "metadata": {
        "id": "3bV2JUd1wGa4"
      }
    },
    {
      "cell_type": "code",
      "source": [
        "#Eliminacion de caracteres especiales y signos de puntuacion\n",
        "df.text = df.text.str.replace('[#,@,&,(,),!,?,/,{,},%,!]', '')\n",
        "df.location = df.location.str.replace('[#,@,&,(,),!,?,/,{,},%,!]', '')\n",
        "df.keyword = df.keyword.str.replace('[#,@,&,(,),!,?,/,{,},%,!]', '')"
      ],
      "metadata": {
        "colab": {
          "base_uri": "https://localhost:8080/"
        },
        "id": "8KprCWkRwYRi",
        "outputId": "f5c15e94-bca2-411e-d8b0-bbb37a2c5146"
      },
      "execution_count": 6,
      "outputs": [
        {
          "output_type": "stream",
          "name": "stderr",
          "text": [
            "/usr/local/lib/python3.7/dist-packages/ipykernel_launcher.py:2: FutureWarning: The default value of regex will change from True to False in a future version.\n",
            "  \n",
            "/usr/local/lib/python3.7/dist-packages/ipykernel_launcher.py:3: FutureWarning: The default value of regex will change from True to False in a future version.\n",
            "  This is separate from the ipykernel package so we can avoid doing imports until\n",
            "/usr/local/lib/python3.7/dist-packages/ipykernel_launcher.py:4: FutureWarning: The default value of regex will change from True to False in a future version.\n",
            "  after removing the cwd from sys.path.\n"
          ]
        }
      ]
    },
    {
      "cell_type": "markdown",
      "source": [
        "**Quitar los URL**"
      ],
      "metadata": {
        "id": "1i0wj8YpxMua"
      }
    },
    {
      "cell_type": "code",
      "source": [
        "#Eliminacion de URL\n",
        "df.text = [re.sub('\\w+:\\/{2}[\\d\\w-]+(\\.[\\d\\w-]+)*(?:(?:\\/[^\\s/]*))*','',i) for i in df.text]\n",
        "df.text = [re.sub(r'^https?:\\/\\/.*[\\r\\n]*', '', i) for i in df.text]"
      ],
      "metadata": {
        "id": "LWOz6m9DxT6o"
      },
      "execution_count": 10,
      "outputs": []
    },
    {
      "cell_type": "markdown",
      "source": [
        "**Revisar si hay emoticones y quitarlos**"
      ],
      "metadata": {
        "id": "yVNlGosTxoKY"
      }
    },
    {
      "cell_type": "code",
      "source": [
        "#Quitar emoticones\n",
        "df.text = [re.sub('[^a-zA-Z0-9 ]+','', i) for i in df.text]\n",
        "print(df)"
      ],
      "metadata": {
        "colab": {
          "base_uri": "https://localhost:8080/"
        },
        "id": "aNH2utUJx-58",
        "outputId": "fd08c699-5555-4654-93e5-6fc13f4db2dd"
      },
      "execution_count": 11,
      "outputs": [
        {
          "output_type": "stream",
          "name": "stdout",
          "text": [
            "         id keyword location  \\\n",
            "0         1     NaN      NaN   \n",
            "1         4     NaN      NaN   \n",
            "2         5     NaN      NaN   \n",
            "3         6     NaN      NaN   \n",
            "4         7     NaN      NaN   \n",
            "...     ...     ...      ...   \n",
            "7608  10869     NaN      NaN   \n",
            "7609  10870     NaN      NaN   \n",
            "7610  10871     NaN      NaN   \n",
            "7611  10872     NaN      NaN   \n",
            "7612  10873     NaN      NaN   \n",
            "\n",
            "                                                   text  target  \n",
            "0     Our Deeds are the Reason of this earthquake Ma...       1  \n",
            "1                 Forest fire near La Ronge Sask Canada       1  \n",
            "2     All residents asked to shelter in place are be...       1  \n",
            "3     13000 people receive wildfires evacuation orde...       1  \n",
            "4     Just got sent this photo from Ruby Alaska as s...       1  \n",
            "...                                                 ...     ...  \n",
            "7608  Two giant cranes holding a bridge collapse int...       1  \n",
            "7609  ariaahrary TheTawniest The out of control wild...       1  \n",
            "7610  M194 0104 UTC5km S of Volcano Hawaii httptcozD...       1  \n",
            "7611  Police investigating after an ebike collided w...       1  \n",
            "7612  The Latest More Homes Razed by Northern Califo...       1  \n",
            "\n",
            "[7613 rows x 5 columns]\n"
          ]
        }
      ]
    },
    {
      "cell_type": "markdown",
      "source": [
        "**Quitar los artículos, preposiciones y conjunciones (stopwords)**"
      ],
      "metadata": {
        "id": "rUnP-EjWy7p2"
      }
    },
    {
      "cell_type": "code",
      "source": [
        "#Eliminar articulos, preposiciones y conjunciones\n",
        "stopwords = set(stopwords.words('english') + ['the', 'i', 'a', 'deeds', 'im','rt','jk','btw','lol','yolo','lmao','lmfao','fb','like','get','em', 'I', 'The', 'A', 'Amp', 'amp'])\n",
        "expresiones = ['im','rt','jk','btw','lol','yolo','lmao','lmfao','fb','like','get','em', 'Im', 'in', 'In', '2']\n",
        "for i in expresiones:\n",
        "    stopwords.add(i)\n",
        "\n",
        "#Nueva estructura de columnas son stopwords\n",
        "df['text_without_stopwords'] = df['text'].apply(lambda x: ' '.join([word for word in x.split() if word not in (stopwords)]))\n",
        "# print(df.text)\n",
        "clean_tweets = df['text_without_stopwords']\n",
        "print(df['text_without_stopwords'])"
      ],
      "metadata": {
        "colab": {
          "base_uri": "https://localhost:8080/"
        },
        "id": "zxilBcvmy-kg",
        "outputId": "d810b922-c057-4ef9-91d5-d68984bcfb06"
      },
      "execution_count": 13,
      "outputs": [
        {
          "output_type": "stream",
          "name": "stdout",
          "text": [
            "0        Our Deeds Reason earthquake May ALLAH Forgive us\n",
            "1                   Forest fire near La Ronge Sask Canada\n",
            "2       All residents asked shelter place notified off...\n",
            "3       13000 people receive wildfires evacuation orde...\n",
            "4       Just got sent photo Ruby Alaska smoke wildfire...\n",
            "                              ...                        \n",
            "7608    Two giant cranes holding bridge collapse nearb...\n",
            "7609    ariaahrary TheTawniest control wild fires Cali...\n",
            "7610    M194 0104 UTC5km S Volcano Hawaii httptcozDtoy...\n",
            "7611    Police investigating ebike collided car Little...\n",
            "7612    Latest More Homes Razed Northern California Wi...\n",
            "Name: text_without_stopwords, Length: 7613, dtype: object\n"
          ]
        }
      ]
    }
  ]
}