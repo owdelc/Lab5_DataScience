{
  "nbformat": 4,
  "nbformat_minor": 0,
  "metadata": {
    "colab": {
      "provenance": [],
      "collapsed_sections": [],
      "authorship_tag": "ABX9TyPYCAcefeGX7tO5BA5gQrGp",
      "include_colab_link": true
    },
    "kernelspec": {
      "name": "python3",
      "display_name": "Python 3"
    },
    "language_info": {
      "name": "python"
    }
  },
  "cells": [
    {
      "cell_type": "markdown",
      "metadata": {
        "id": "view-in-github",
        "colab_type": "text"
      },
      "source": [
        "<a href=\"https://colab.research.google.com/github/owdelc/Lab5_DataScience/blob/main/LAB5_DS.ipynb\" target=\"_parent\"><img src=\"https://colab.research.google.com/assets/colab-badge.svg\" alt=\"Open In Colab\"/></a>"
      ]
    },
    {
      "cell_type": "code",
      "execution_count": 12,
      "metadata": {
        "id": "dgtOSYezpehb"
      },
      "outputs": [],
      "source": [
        "#imports \n",
        "import pandas as pd\n",
        "import numpy as np\n",
        "import re\n",
        "\n",
        "import io \n",
        "from nltk.corpus import stopwords \n",
        "from nltk.tokenize import word_tokenize \n",
        "from cgitb import text"
      ]
    },
    {
      "cell_type": "markdown",
      "source": [
        "###**2. Cargue los archivos de datos a R o a Python, dependiendo de con qué trabaje.**"
      ],
      "metadata": {
        "id": "Rhpzpo4SsJ30"
      }
    },
    {
      "cell_type": "code",
      "source": [
        "#Carga de datos\n",
        "df = pd.read_csv('/train.csv')"
      ],
      "metadata": {
        "id": "xSY6hdhApvOX"
      },
      "execution_count": 4,
      "outputs": []
    },
    {
      "cell_type": "markdown",
      "source": [
        "###**3. Limpie y preprocese los datos**"
      ],
      "metadata": {
        "id": "go8OE8Z3s3X9"
      }
    },
    {
      "cell_type": "markdown",
      "source": [
        "**Convertir el texto a mayúsculas o a minúsculas**"
      ],
      "metadata": {
        "id": "hH82KG2Uv1Ak"
      }
    },
    {
      "cell_type": "code",
      "source": [
        "#Valores en lowercase para que no haya problemas con las mayusculas\n",
        "df['text'].str.lower()\n",
        "df['location'].str.lower()\n",
        "df['keyword'].str.lower()\n",
        "\n",
        "print(df)"
      ],
      "metadata": {
        "colab": {
          "base_uri": "https://localhost:8080/"
        },
        "id": "8ucZzvOttYE0",
        "outputId": "81cc676e-0c9a-4b41-cc5d-25f1d96794bd"
      },
      "execution_count": 7,
      "outputs": [
        {
          "output_type": "stream",
          "name": "stdout",
          "text": [
            "         id keyword location  \\\n",
            "0         1     NaN      NaN   \n",
            "1         4     NaN      NaN   \n",
            "2         5     NaN      NaN   \n",
            "3         6     NaN      NaN   \n",
            "4         7     NaN      NaN   \n",
            "...     ...     ...      ...   \n",
            "7608  10869     NaN      NaN   \n",
            "7609  10870     NaN      NaN   \n",
            "7610  10871     NaN      NaN   \n",
            "7611  10872     NaN      NaN   \n",
            "7612  10873     NaN      NaN   \n",
            "\n",
            "                                                   text  target  \n",
            "0     Our Deeds are the Reason of this earthquake Ma...       1  \n",
            "1                Forest fire near La Ronge Sask. Canada       1  \n",
            "2     All residents asked to 'shelter in place' are ...       1  \n",
            "3     13000 people receive wildfires evacuation orde...       1  \n",
            "4     Just got sent this photo from Ruby Alaska as s...       1  \n",
            "...                                                 ...     ...  \n",
            "7608  Two giant cranes holding a bridge collapse int...       1  \n",
            "7609  aria_ahrary TheTawniest The out of control wil...       1  \n",
            "7610  M1.94 [01:04 UTC]5km S of Volcano Hawaii. http...       1  \n",
            "7611  Police investigating after an e-bike collided ...       1  \n",
            "7612  The Latest: More Homes Razed by Northern Calif...       1  \n",
            "\n",
            "[7613 rows x 5 columns]\n"
          ]
        }
      ]
    },
    {
      "cell_type": "markdown",
      "source": [
        "**Quitar los caracteres especiales y signos de puntuacion**"
      ],
      "metadata": {
        "id": "3bV2JUd1wGa4"
      }
    },
    {
      "cell_type": "code",
      "source": [
        "#Eliminacion de caracteres especiales y signos de puntuacion\n",
        "df.text = df.text.str.replace('[#,@,&,(,),!,?,/,{,},%,!]', '')\n",
        "df.location = df.location.str.replace('[#,@,&,(,),!,?,/,{,},%,!]', '')\n",
        "df.keyword = df.keyword.str.replace('[#,@,&,(,),!,?,/,{,},%,!]', '')"
      ],
      "metadata": {
        "colab": {
          "base_uri": "https://localhost:8080/"
        },
        "id": "8KprCWkRwYRi",
        "outputId": "f5c15e94-bca2-411e-d8b0-bbb37a2c5146"
      },
      "execution_count": 6,
      "outputs": [
        {
          "output_type": "stream",
          "name": "stderr",
          "text": [
            "/usr/local/lib/python3.7/dist-packages/ipykernel_launcher.py:2: FutureWarning: The default value of regex will change from True to False in a future version.\n",
            "  \n",
            "/usr/local/lib/python3.7/dist-packages/ipykernel_launcher.py:3: FutureWarning: The default value of regex will change from True to False in a future version.\n",
            "  This is separate from the ipykernel package so we can avoid doing imports until\n",
            "/usr/local/lib/python3.7/dist-packages/ipykernel_launcher.py:4: FutureWarning: The default value of regex will change from True to False in a future version.\n",
            "  after removing the cwd from sys.path.\n"
          ]
        }
      ]
    },
    {
      "cell_type": "markdown",
      "source": [
        "**Quitar los URL**"
      ],
      "metadata": {
        "id": "1i0wj8YpxMua"
      }
    },
    {
      "cell_type": "code",
      "source": [
        "#Eliminacion de URL\n",
        "df.text = [re.sub('\\w+:\\/{2}[\\d\\w-]+(\\.[\\d\\w-]+)*(?:(?:\\/[^\\s/]*))*','',i) for i in df.text]\n",
        "df.text = [re.sub(r'^https?:\\/\\/.*[\\r\\n]*', '', i) for i in df.text]"
      ],
      "metadata": {
        "id": "LWOz6m9DxT6o"
      },
      "execution_count": 10,
      "outputs": []
    },
    {
      "cell_type": "markdown",
      "source": [
        "**Revisar si hay emoticones y quitarlos**"
      ],
      "metadata": {
        "id": "yVNlGosTxoKY"
      }
    },
    {
      "cell_type": "code",
      "source": [
        "#Quitar emoticones\n",
        "df.text = [re.sub('[^a-zA-Z0-9 ]+','', i) for i in df.text]\n",
        "print(df)"
      ],
      "metadata": {
        "colab": {
          "base_uri": "https://localhost:8080/"
        },
        "id": "aNH2utUJx-58",
        "outputId": "fd08c699-5555-4654-93e5-6fc13f4db2dd"
      },
      "execution_count": 11,
      "outputs": [
        {
          "output_type": "stream",
          "name": "stdout",
          "text": [
            "         id keyword location  \\\n",
            "0         1     NaN      NaN   \n",
            "1         4     NaN      NaN   \n",
            "2         5     NaN      NaN   \n",
            "3         6     NaN      NaN   \n",
            "4         7     NaN      NaN   \n",
            "...     ...     ...      ...   \n",
            "7608  10869     NaN      NaN   \n",
            "7609  10870     NaN      NaN   \n",
            "7610  10871     NaN      NaN   \n",
            "7611  10872     NaN      NaN   \n",
            "7612  10873     NaN      NaN   \n",
            "\n",
            "                                                   text  target  \n",
            "0     Our Deeds are the Reason of this earthquake Ma...       1  \n",
            "1                 Forest fire near La Ronge Sask Canada       1  \n",
            "2     All residents asked to shelter in place are be...       1  \n",
            "3     13000 people receive wildfires evacuation orde...       1  \n",
            "4     Just got sent this photo from Ruby Alaska as s...       1  \n",
            "...                                                 ...     ...  \n",
            "7608  Two giant cranes holding a bridge collapse int...       1  \n",
            "7609  ariaahrary TheTawniest The out of control wild...       1  \n",
            "7610  M194 0104 UTC5km S of Volcano Hawaii httptcozD...       1  \n",
            "7611  Police investigating after an ebike collided w...       1  \n",
            "7612  The Latest More Homes Razed by Northern Califo...       1  \n",
            "\n",
            "[7613 rows x 5 columns]\n"
          ]
        }
      ]
    },
    {
      "cell_type": "markdown",
      "source": [
        "**Quitar los artículos, preposiciones y conjunciones (stopwords)**"
      ],
      "metadata": {
        "id": "rUnP-EjWy7p2"
      }
    },
    {
      "cell_type": "code",
      "source": [
        "#Eliminar articulos, preposiciones y conjunciones\n",
        "stopwords = set(stopwords.words('english') + ['the', 'i', 'a', 'deeds', 'im','rt','jk','btw','lol','yolo','lmao','lmfao','fb','like','get','em', 'I', 'The', 'A', 'Amp', 'amp'])\n",
        "expresiones = ['im','rt','jk','btw','lol','yolo','lmao','lmfao','fb','like','get','em', 'Im', 'in', 'In', '2']\n",
        "for i in expresiones:\n",
        "    stopwords.add(i)\n",
        "\n",
        "#Nueva estructura de columnas son stopwords\n",
        "df['text_without_stopwords'] = df['text'].apply(lambda x: ' '.join([word for word in x.split() if word not in (stopwords)]))\n",
        "# print(df.text)\n",
        "clean_tweets = df['text_without_stopwords']\n",
        "print(df['text_without_stopwords'])"
      ],
      "metadata": {
        "colab": {
          "base_uri": "https://localhost:8080/"
        },
        "id": "zxilBcvmy-kg",
        "outputId": "d810b922-c057-4ef9-91d5-d68984bcfb06"
      },
      "execution_count": 13,
      "outputs": [
        {
          "output_type": "stream",
          "name": "stdout",
          "text": [
            "0        Our Deeds Reason earthquake May ALLAH Forgive us\n",
            "1                   Forest fire near La Ronge Sask Canada\n",
            "2       All residents asked shelter place notified off...\n",
            "3       13000 people receive wildfires evacuation orde...\n",
            "4       Just got sent photo Ruby Alaska smoke wildfire...\n",
            "                              ...                        \n",
            "7608    Two giant cranes holding bridge collapse nearb...\n",
            "7609    ariaahrary TheTawniest control wild fires Cali...\n",
            "7610    M194 0104 UTC5km S Volcano Hawaii httptcozDtoy...\n",
            "7611    Police investigating ebike collided car Little...\n",
            "7612    Latest More Homes Razed Northern California Wi...\n",
            "Name: text_without_stopwords, Length: 7613, dtype: object\n"
          ]
        }
      ]
    },
    {
      "cell_type": "markdown",
      "source": [
        "###**4. frecuencia de las palabras tanto de los tweets de desastres como de los que no**"
      ],
      "metadata": {
        "id": "yQoixEQY7sOq"
      }
    },
    {
      "cell_type": "code",
      "source": [
        "frec_dic_tweets = {}\n",
        "for word in clean_tweets:\n",
        "    if word in frec_dic_tweets:\n",
        "        frec_dic_tweets[word] += 1\n",
        "    else:\n",
        "        frec_dic_tweets[word] = 1\n",
        "\n",
        "tweets_frecuency = pd.DataFrame.from_dict(frec_dic_tweets, orient='index')\n",
        "tweets_frecuency"
      ],
      "metadata": {
        "colab": {
          "base_uri": "https://localhost:8080/",
          "height": 649
        },
        "id": "NFp1xh9H9v0V",
        "outputId": "8956eda2-11a8-445a-cf45-a114b9759ccc"
      },
      "execution_count": 14,
      "outputs": [
        {
          "output_type": "execute_result",
          "data": {
            "text/plain": [
              "                                                    0\n",
              "Our Deeds Reason earthquake May ALLAH Forgive us    1\n",
              "Forest fire near La Ronge Sask Canada               1\n",
              "All residents asked shelter place notified offi...  1\n",
              "13000 people receive wildfires evacuation order...  1\n",
              "Just got sent photo Ruby Alaska smoke wildfires...  1\n",
              "...                                                ..\n",
              "Officials say quarantine place Alabama home pos...  1\n",
              "flip side Walmart bomb everyone evacuate stay t...  1\n",
              "Suicide bomber kills 15 Saudi security site mos...  1\n",
              "Two giant cranes holding bridge collapse nearby...  1\n",
              "Latest More Homes Razed Northern California Wil...  1\n",
              "\n",
              "[7495 rows x 1 columns]"
            ],
            "text/html": [
              "\n",
              "  <div id=\"df-f9dfb14e-1a86-468b-89c5-4cf156c0178d\">\n",
              "    <div class=\"colab-df-container\">\n",
              "      <div>\n",
              "<style scoped>\n",
              "    .dataframe tbody tr th:only-of-type {\n",
              "        vertical-align: middle;\n",
              "    }\n",
              "\n",
              "    .dataframe tbody tr th {\n",
              "        vertical-align: top;\n",
              "    }\n",
              "\n",
              "    .dataframe thead th {\n",
              "        text-align: right;\n",
              "    }\n",
              "</style>\n",
              "<table border=\"1\" class=\"dataframe\">\n",
              "  <thead>\n",
              "    <tr style=\"text-align: right;\">\n",
              "      <th></th>\n",
              "      <th>0</th>\n",
              "    </tr>\n",
              "  </thead>\n",
              "  <tbody>\n",
              "    <tr>\n",
              "      <th>Our Deeds Reason earthquake May ALLAH Forgive us</th>\n",
              "      <td>1</td>\n",
              "    </tr>\n",
              "    <tr>\n",
              "      <th>Forest fire near La Ronge Sask Canada</th>\n",
              "      <td>1</td>\n",
              "    </tr>\n",
              "    <tr>\n",
              "      <th>All residents asked shelter place notified officers No evacuation shelter place orders expected</th>\n",
              "      <td>1</td>\n",
              "    </tr>\n",
              "    <tr>\n",
              "      <th>13000 people receive wildfires evacuation orders California</th>\n",
              "      <td>1</td>\n",
              "    </tr>\n",
              "    <tr>\n",
              "      <th>Just got sent photo Ruby Alaska smoke wildfires pours school</th>\n",
              "      <td>1</td>\n",
              "    </tr>\n",
              "    <tr>\n",
              "      <th>...</th>\n",
              "      <td>...</td>\n",
              "    </tr>\n",
              "    <tr>\n",
              "      <th>Officials say quarantine place Alabama home possible Ebola case developing symptoms httptcorqKK15uhEY</th>\n",
              "      <td>1</td>\n",
              "    </tr>\n",
              "    <tr>\n",
              "      <th>flip side Walmart bomb everyone evacuate stay tuned blow</th>\n",
              "      <td>1</td>\n",
              "    </tr>\n",
              "    <tr>\n",
              "      <th>Suicide bomber kills 15 Saudi security site mosque Reuters via World Google News Wall httptconF4IculOje</th>\n",
              "      <td>1</td>\n",
              "    </tr>\n",
              "    <tr>\n",
              "      <th>Two giant cranes holding bridge collapse nearby homes httptcoSTfMbbZFB5</th>\n",
              "      <td>1</td>\n",
              "    </tr>\n",
              "    <tr>\n",
              "      <th>Latest More Homes Razed Northern California Wildfire ABC News httptcoYmY4rSkQ3d</th>\n",
              "      <td>1</td>\n",
              "    </tr>\n",
              "  </tbody>\n",
              "</table>\n",
              "<p>7495 rows × 1 columns</p>\n",
              "</div>\n",
              "      <button class=\"colab-df-convert\" onclick=\"convertToInteractive('df-f9dfb14e-1a86-468b-89c5-4cf156c0178d')\"\n",
              "              title=\"Convert this dataframe to an interactive table.\"\n",
              "              style=\"display:none;\">\n",
              "        \n",
              "  <svg xmlns=\"http://www.w3.org/2000/svg\" height=\"24px\"viewBox=\"0 0 24 24\"\n",
              "       width=\"24px\">\n",
              "    <path d=\"M0 0h24v24H0V0z\" fill=\"none\"/>\n",
              "    <path d=\"M18.56 5.44l.94 2.06.94-2.06 2.06-.94-2.06-.94-.94-2.06-.94 2.06-2.06.94zm-11 1L8.5 8.5l.94-2.06 2.06-.94-2.06-.94L8.5 2.5l-.94 2.06-2.06.94zm10 10l.94 2.06.94-2.06 2.06-.94-2.06-.94-.94-2.06-.94 2.06-2.06.94z\"/><path d=\"M17.41 7.96l-1.37-1.37c-.4-.4-.92-.59-1.43-.59-.52 0-1.04.2-1.43.59L10.3 9.45l-7.72 7.72c-.78.78-.78 2.05 0 2.83L4 21.41c.39.39.9.59 1.41.59.51 0 1.02-.2 1.41-.59l7.78-7.78 2.81-2.81c.8-.78.8-2.07 0-2.86zM5.41 20L4 18.59l7.72-7.72 1.47 1.35L5.41 20z\"/>\n",
              "  </svg>\n",
              "      </button>\n",
              "      \n",
              "  <style>\n",
              "    .colab-df-container {\n",
              "      display:flex;\n",
              "      flex-wrap:wrap;\n",
              "      gap: 12px;\n",
              "    }\n",
              "\n",
              "    .colab-df-convert {\n",
              "      background-color: #E8F0FE;\n",
              "      border: none;\n",
              "      border-radius: 50%;\n",
              "      cursor: pointer;\n",
              "      display: none;\n",
              "      fill: #1967D2;\n",
              "      height: 32px;\n",
              "      padding: 0 0 0 0;\n",
              "      width: 32px;\n",
              "    }\n",
              "\n",
              "    .colab-df-convert:hover {\n",
              "      background-color: #E2EBFA;\n",
              "      box-shadow: 0px 1px 2px rgba(60, 64, 67, 0.3), 0px 1px 3px 1px rgba(60, 64, 67, 0.15);\n",
              "      fill: #174EA6;\n",
              "    }\n",
              "\n",
              "    [theme=dark] .colab-df-convert {\n",
              "      background-color: #3B4455;\n",
              "      fill: #D2E3FC;\n",
              "    }\n",
              "\n",
              "    [theme=dark] .colab-df-convert:hover {\n",
              "      background-color: #434B5C;\n",
              "      box-shadow: 0px 1px 3px 1px rgba(0, 0, 0, 0.15);\n",
              "      filter: drop-shadow(0px 1px 2px rgba(0, 0, 0, 0.3));\n",
              "      fill: #FFFFFF;\n",
              "    }\n",
              "  </style>\n",
              "\n",
              "      <script>\n",
              "        const buttonEl =\n",
              "          document.querySelector('#df-f9dfb14e-1a86-468b-89c5-4cf156c0178d button.colab-df-convert');\n",
              "        buttonEl.style.display =\n",
              "          google.colab.kernel.accessAllowed ? 'block' : 'none';\n",
              "\n",
              "        async function convertToInteractive(key) {\n",
              "          const element = document.querySelector('#df-f9dfb14e-1a86-468b-89c5-4cf156c0178d');\n",
              "          const dataTable =\n",
              "            await google.colab.kernel.invokeFunction('convertToInteractive',\n",
              "                                                     [key], {});\n",
              "          if (!dataTable) return;\n",
              "\n",
              "          const docLinkHtml = 'Like what you see? Visit the ' +\n",
              "            '<a target=\"_blank\" href=https://colab.research.google.com/notebooks/data_table.ipynb>data table notebook</a>'\n",
              "            + ' to learn more about interactive tables.';\n",
              "          element.innerHTML = '';\n",
              "          dataTable['output_type'] = 'display_data';\n",
              "          await google.colab.output.renderOutput(dataTable, element);\n",
              "          const docLink = document.createElement('div');\n",
              "          docLink.innerHTML = docLinkHtml;\n",
              "          element.appendChild(docLink);\n",
              "        }\n",
              "      </script>\n",
              "    </div>\n",
              "  </div>\n",
              "  "
            ]
          },
          "metadata": {},
          "execution_count": 14
        }
      ]
    }
  ]
}